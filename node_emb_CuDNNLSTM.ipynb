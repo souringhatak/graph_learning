{
 "cells": [
  {
   "cell_type": "code",
   "execution_count": null,
   "metadata": {},
   "outputs": [],
   "source": [
    "# dependencies\n",
    "import numpy as np\n",
    "from scipy.io import loadmat\n",
    "from keras.models import Model, load_model\n",
    "from keras.layers import Input, CuDNNLSTM, Dense\n",
    "from keras.utils.np_utils import to_categorical\n",
    "from keras.preprocessing import sequence"
   ]
  },
  {
   "cell_type": "code",
   "execution_count": null,
   "metadata": {},
   "outputs": [],
   "source": [
    "## making pairs with negative sampling\n",
    "# generating positive and negative couples using skipgram module from keras\n",
    "seqs = loadmat('seqs.mat')['list3']\n",
    "vocab_size = seqs.max() + 1\n",
    "window_size = 1\n",
    "sampling_table = sequence.make_sampling_table(vocab_size)\n",
    "p1 = []\n",
    "p2 = []\n",
    "out = []    \n",
    "for x in seqs:\n",
    "    couples, labels = sequence.skipgrams(x, vocab_size, window_size=window_size, sampling_table=sampling_table)\n",
    "    for cpl, lbl in zip(couples, labels):\n",
    "        p1.append(cpl[0])\n",
    "        p2.append(cpl[1])\n",
    "        out.append(lbl)"
   ]
  },
  {
   "cell_type": "code",
   "execution_count": null,
   "metadata": {},
   "outputs": [],
   "source": [
    "## MODEL DESIGN\n",
    "# model variables\n",
    "in_dim = vocab_size\n",
    "red_dim = 600\n",
    "out_dim = 1\n",
    "n_hidden = 300\n",
    "\n",
    "# model components\n",
    "encoder_inputs = Input(shape = (None, in_dim), name = 'encoder_inputs')\n",
    "decoder_inputs = Input(shape = (None, in_dim), name = 'decoder_inputs')\n",
    "pre_dense = Dense(red_dim, activation = 'selu', name = 'pre_dense')\n",
    "encoder = CuDNNLSTM(n_hidden, return_sequences = True, return_state = True, name = 'encoder')\n",
    "decoder = CuDNNLSTM(n_hidden, return_sequences = True, name = 'decoder')\n",
    "dense = Dense(out_dim, activation = 'sigmoid', name = 'dense')\n",
    "\n",
    "# data flow\n",
    "pre_dense_out1 = pre_dense(encoder_inputs)\n",
    "encoder_out, state_h, state_c = encoder(pre_dense_out1)\n",
    "encoder_states = [state_h, state_c]\n",
    "pre_dense_out2 = pre_dense(decoder_inputs)\n",
    "decoder_out = decoder(pre_dense_out2, initial_state = encoder_states)\n",
    "dense_out = dense(decoder_out)\n",
    "\n",
    "# constructing the model\n",
    "training_model = Model([encoder_inputs, decoder_inputs], dense_out)\n",
    "training_model.compile(loss = 'binary_crossentropy', optimizer = 'rmsprop', metrics = ['acc'])"
   ]
  },
  {
   "cell_type": "code",
   "execution_count": null,
   "metadata": {},
   "outputs": [],
   "source": [
    "## TRAINING\n",
    "# training dependencies\n",
    "from keras.utils.np_utils import to_categorical\n",
    "\n",
    "# converting into numpy arrays\n",
    "encoder_in = np.asarray(p1, dtype = 'int')\n",
    "decoder_in = np.asarray(p2, dtype = 'int')\n",
    "train_labels = np.asarray(out, dtype = 'int')\n",
    "\n",
    "encoder_in = to_categorical(encoder_in, num_classes = in_dim)\n",
    "decoder_in = to_categorical(decoder_in, num_classes = in_dim)\n",
    "\n",
    "# reshaping into 3D LSTM input\n",
    "encoder_in = np.reshape(encoder_in, (len(encoder_in), 1, in_dim))\n",
    "decoder_in = np.reshape(decoder_in, (len(decoder_in), 1, in_dim))\n",
    "train_labels = np.reshape(train_labels, (len(train_labels), 1, out_dim))\n",
    "\n",
    "# training variables\n",
    "epochs = 25\n",
    "batch_size = 1000\n",
    "\n",
    "# training the data\n",
    "print 'FORWARD TRAINING STARTED'\n",
    "training_model.fit([encoder_in, decoder_in], train_labels, epochs = epochs, batch_size = batch_size, verbose = 1)\n",
    "print 'FORWARD TRAINING FINISHED'\n",
    "\n",
    "print 'BACKWARD TRAINING STARTED'\n",
    "training_model.fit([decoder_in, encoder_in], train_labels, epochs = epochs, batch_size = batch_size, verbose = 1)\n",
    "print 'BACKWARD TRAINING FINISHED'"
   ]
  },
  {
   "cell_type": "code",
   "execution_count": null,
   "metadata": {},
   "outputs": [],
   "source": [
    "## retrieving embeddings\n",
    "dense_weights = training_model.layers[2].get_weights()\n",
    "trained_weights = training_model.layers[4].get_weights()\n",
    "for i in range(len(dense_weights)):\n",
    "    trained_weights.insert(i, dense_weights[i])\n",
    "\n",
    "# embedding model components\n",
    "inputs = Input(shape = (None, in_dim), name = 'inputs')\n",
    "pre_dense = Dense(red_dim, activation = 'relu', name = 'pre_dense')\n",
    "lstm_cell = CuDNNLSTM(n_hidden, return_sequences = True, name = 'lstm_cell')\n",
    "pre_dense_out = pre_dense(inputs)\n",
    "lstm_out = lstm_cell(pre_dense_out)\n",
    "\n",
    "# building the model.\n",
    "pred_model = Model(inputs, lstm_out)\n",
    "pred_model.set_weights(trained_weights)\n",
    "pred_model.compile(loss = 'binary_crossentropy', optimizer = 'rmsprop', metrics = ['acc'])\n",
    "\n",
    "# creating prediction data\n",
    "pred_data = np.arange(0, in_dim)\n",
    "pred_data = to_categorical(pred_data, num_classes = in_dim)\n",
    "pred_data = np.reshape(pred_data, (len(pred_data), 1, in_dim))\n",
    "\n",
    "# making predictions\n",
    "preds = pred_model.predict(pred_data)\n",
    "req_emb = np.reshape(preds, (len(preds), n_hidden))\n",
    "\n",
    "# saving the embedding as numpy array\n",
    "np.save('node_emb.npy', req_emb)"
   ]
  }
 ],
 "metadata": {
  "kernelspec": {
   "display_name": "Python 2",
   "language": "python",
   "name": "python2"
  },
  "language_info": {
   "codemirror_mode": {
    "name": "ipython",
    "version": 2
   },
   "file_extension": ".py",
   "mimetype": "text/x-python",
   "name": "python",
   "nbconvert_exporter": "python",
   "pygments_lexer": "ipython2",
   "version": "2.7.15"
  },
  "varInspector": {
   "cols": {
    "lenName": 16,
    "lenType": 16,
    "lenVar": 40
   },
   "kernels_config": {
    "python": {
     "delete_cmd_postfix": "",
     "delete_cmd_prefix": "del ",
     "library": "var_list.py",
     "varRefreshCmd": "print(var_dic_list())"
    },
    "r": {
     "delete_cmd_postfix": ") ",
     "delete_cmd_prefix": "rm(",
     "library": "var_list.r",
     "varRefreshCmd": "cat(var_dic_list()) "
    }
   },
   "position": {
    "height": "852px",
    "left": "1499px",
    "right": "20px",
    "top": "112px",
    "width": "355px"
   },
   "types_to_exclude": [
    "module",
    "function",
    "builtin_function_or_method",
    "instance",
    "_Feature"
   ],
   "window_display": true
  }
 },
 "nbformat": 4,
 "nbformat_minor": 2
}
